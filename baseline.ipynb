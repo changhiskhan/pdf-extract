{
 "cells": [
  {
   "cell_type": "code",
   "execution_count": 1,
   "id": "b61dde65-e484-41a1-870b-c3312c254fb6",
   "metadata": {},
   "outputs": [
    {
     "name": "stdout",
     "output_type": "stream",
     "text": [
      "Requirement already satisfied: camelot-py[cv] in /Users/changshe/.venv/leoshouseofhorrors/lib/python3.11/site-packages (0.9.0)\n",
      "Requirement already satisfied: numpy in /Users/changshe/.venv/leoshouseofhorrors/lib/python3.11/site-packages (1.24.1)\n",
      "Requirement already satisfied: pandas in /Users/changshe/.venv/leoshouseofhorrors/lib/python3.11/site-packages (1.5.2)\n",
      "Requirement already satisfied: tabula-py in /Users/changshe/.venv/leoshouseofhorrors/lib/python3.11/site-packages (2.6.0)\n",
      "Requirement already satisfied: ghostscript in /Users/changshe/.venv/leoshouseofhorrors/lib/python3.11/site-packages (0.7)\n",
      "Requirement already satisfied: chardet>=3.0.4 in /Users/changshe/.venv/leoshouseofhorrors/lib/python3.11/site-packages (from camelot-py[cv]) (5.1.0)\n",
      "Requirement already satisfied: click>=6.7 in /Users/changshe/.venv/leoshouseofhorrors/lib/python3.11/site-packages (from camelot-py[cv]) (8.1.3)\n",
      "Requirement already satisfied: openpyxl>=2.5.8 in /Users/changshe/.venv/leoshouseofhorrors/lib/python3.11/site-packages (from camelot-py[cv]) (3.0.10)\n",
      "Requirement already satisfied: pdfminer.six>=20200726 in /Users/changshe/.venv/leoshouseofhorrors/lib/python3.11/site-packages (from camelot-py[cv]) (20221105)\n",
      "Requirement already satisfied: PyPDF2>=1.26.0 in /Users/changshe/.venv/leoshouseofhorrors/lib/python3.11/site-packages (from camelot-py[cv]) (3.0.1)\n",
      "Requirement already satisfied: opencv-python>=3.4.2.17 in /Users/changshe/.venv/leoshouseofhorrors/lib/python3.11/site-packages (from camelot-py[cv]) (4.7.0.68)\n",
      "Requirement already satisfied: python-dateutil>=2.8.1 in /Users/changshe/.venv/leoshouseofhorrors/lib/python3.11/site-packages (from pandas) (2.8.2)\n",
      "Requirement already satisfied: pytz>=2020.1 in /Users/changshe/.venv/leoshouseofhorrors/lib/python3.11/site-packages (from pandas) (2022.7)\n",
      "Requirement already satisfied: distro in /Users/changshe/.venv/leoshouseofhorrors/lib/python3.11/site-packages (from tabula-py) (1.8.0)\n",
      "Requirement already satisfied: setuptools>=38.6.0 in /Users/changshe/.venv/leoshouseofhorrors/lib/python3.11/site-packages (from ghostscript) (65.5.0)\n",
      "Requirement already satisfied: et-xmlfile in /Users/changshe/.venv/leoshouseofhorrors/lib/python3.11/site-packages (from openpyxl>=2.5.8->camelot-py[cv]) (1.1.0)\n",
      "Requirement already satisfied: charset-normalizer>=2.0.0 in /Users/changshe/.venv/leoshouseofhorrors/lib/python3.11/site-packages (from pdfminer.six>=20200726->camelot-py[cv]) (2.1.1)\n",
      "Requirement already satisfied: cryptography>=36.0.0 in /Users/changshe/.venv/leoshouseofhorrors/lib/python3.11/site-packages (from pdfminer.six>=20200726->camelot-py[cv]) (39.0.0)\n",
      "Requirement already satisfied: six>=1.5 in /Users/changshe/.venv/leoshouseofhorrors/lib/python3.11/site-packages (from python-dateutil>=2.8.1->pandas) (1.16.0)\n",
      "Requirement already satisfied: cffi>=1.12 in /Users/changshe/.venv/leoshouseofhorrors/lib/python3.11/site-packages (from cryptography>=36.0.0->pdfminer.six>=20200726->camelot-py[cv]) (1.15.1)\n",
      "Requirement already satisfied: pycparser in /Users/changshe/.venv/leoshouseofhorrors/lib/python3.11/site-packages (from cffi>=1.12->cryptography>=36.0.0->pdfminer.six>=20200726->camelot-py[cv]) (2.21)\n",
      "Note: you may need to restart the kernel to use updated packages.\n"
     ]
    }
   ],
   "source": [
    "pip install \"camelot-py[cv]\" numpy pandas tabula-py ghostscript"
   ]
  },
  {
   "cell_type": "code",
   "execution_count": 4,
   "id": "978b6028-9e7a-4c19-92a6-4f1445e79749",
   "metadata": {},
   "outputs": [],
   "source": [
    "from ctypes.util import find_library\n",
    "find_library(\"/usr/local/lib/docker/\")"
   ]
  },
  {
   "cell_type": "code",
   "execution_count": 3,
   "id": "d4fe7f31-eb77-4da7-a929-bb41981ff582",
   "metadata": {},
   "outputs": [],
   "source": [
    "import tkinter"
   ]
  },
  {
   "cell_type": "code",
   "execution_count": 5,
   "id": "9cc24901-8da7-4413-a0ff-5c19ab5f2887",
   "metadata": {},
   "outputs": [
    {
     "ename": "RuntimeError",
     "evalue": "Can not find Ghostscript library (libgs)",
     "output_type": "error",
     "traceback": [
      "\u001b[0;31m---------------------------------------------------------------------------\u001b[0m",
      "\u001b[0;31mOSError\u001b[0m                                   Traceback (most recent call last)",
      "File \u001b[0;32m~/.venv/leoshouseofhorrors/lib/python3.11/site-packages/ghostscript/_gsprint.py:524\u001b[0m\n\u001b[1;32m    523\u001b[0m \u001b[38;5;28;01mtry\u001b[39;00m:\n\u001b[0;32m--> 524\u001b[0m     libgs \u001b[38;5;241m=\u001b[39m \u001b[43mcdll\u001b[49m\u001b[38;5;241;43m.\u001b[39;49m\u001b[43mLoadLibrary\u001b[49m\u001b[43m(\u001b[49m\u001b[38;5;124;43m\"\u001b[39;49m\u001b[38;5;124;43mlibgs.so\u001b[39;49m\u001b[38;5;124;43m\"\u001b[39;49m\u001b[43m)\u001b[49m\n\u001b[1;32m    525\u001b[0m \u001b[38;5;28;01mexcept\u001b[39;00m \u001b[38;5;167;01mOSError\u001b[39;00m:\n\u001b[1;32m    526\u001b[0m     \u001b[38;5;66;03m# shared object file not found\u001b[39;00m\n",
      "File \u001b[0;32m/Library/Frameworks/Python.framework/Versions/3.11/lib/python3.11/ctypes/__init__.py:454\u001b[0m, in \u001b[0;36mLibraryLoader.LoadLibrary\u001b[0;34m(self, name)\u001b[0m\n\u001b[1;32m    453\u001b[0m \u001b[38;5;28;01mdef\u001b[39;00m \u001b[38;5;21mLoadLibrary\u001b[39m(\u001b[38;5;28mself\u001b[39m, name):\n\u001b[0;32m--> 454\u001b[0m     \u001b[38;5;28;01mreturn\u001b[39;00m \u001b[38;5;28;43mself\u001b[39;49m\u001b[38;5;241;43m.\u001b[39;49m\u001b[43m_dlltype\u001b[49m\u001b[43m(\u001b[49m\u001b[43mname\u001b[49m\u001b[43m)\u001b[49m\n",
      "File \u001b[0;32m/Library/Frameworks/Python.framework/Versions/3.11/lib/python3.11/ctypes/__init__.py:376\u001b[0m, in \u001b[0;36mCDLL.__init__\u001b[0;34m(self, name, mode, handle, use_errno, use_last_error, winmode)\u001b[0m\n\u001b[1;32m    375\u001b[0m \u001b[38;5;28;01mif\u001b[39;00m handle \u001b[38;5;129;01mis\u001b[39;00m \u001b[38;5;28;01mNone\u001b[39;00m:\n\u001b[0;32m--> 376\u001b[0m     \u001b[38;5;28mself\u001b[39m\u001b[38;5;241m.\u001b[39m_handle \u001b[38;5;241m=\u001b[39m \u001b[43m_dlopen\u001b[49m\u001b[43m(\u001b[49m\u001b[38;5;28;43mself\u001b[39;49m\u001b[38;5;241;43m.\u001b[39;49m\u001b[43m_name\u001b[49m\u001b[43m,\u001b[49m\u001b[43m \u001b[49m\u001b[43mmode\u001b[49m\u001b[43m)\u001b[49m\n\u001b[1;32m    377\u001b[0m \u001b[38;5;28;01melse\u001b[39;00m:\n",
      "\u001b[0;31mOSError\u001b[0m: dlopen(libgs.so, 0x0006): tried: 'libgs.so' (no such file), '/System/Volumes/Preboot/Cryptexes/OSlibgs.so' (no such file), '/usr/lib/libgs.so' (no such file, not in dyld cache), 'libgs.so' (no such file), '/usr/lib/libgs.so' (no such file, not in dyld cache)",
      "\nDuring handling of the above exception, another exception occurred:\n",
      "\u001b[0;31mRuntimeError\u001b[0m                              Traceback (most recent call last)",
      "Cell \u001b[0;32mIn[5], line 1\u001b[0m\n\u001b[0;32m----> 1\u001b[0m \u001b[38;5;28;01mimport\u001b[39;00m \u001b[38;5;21;01mghostscript\u001b[39;00m\n",
      "File \u001b[0;32m~/.venv/leoshouseofhorrors/lib/python3.11/site-packages/ghostscript/__init__.py:32\u001b[0m\n\u001b[1;32m     28\u001b[0m __all__ \u001b[38;5;241m=\u001b[39m [\u001b[38;5;124m'\u001b[39m\u001b[38;5;124mGhostscript\u001b[39m\u001b[38;5;124m'\u001b[39m, \u001b[38;5;124m'\u001b[39m\u001b[38;5;124mrevision\u001b[39m\u001b[38;5;124m'\u001b[39m,\n\u001b[1;32m     29\u001b[0m            \u001b[38;5;124m'\u001b[39m\u001b[38;5;124mGhostscriptError\u001b[39m\u001b[38;5;124m'\u001b[39m, \u001b[38;5;124m'\u001b[39m\u001b[38;5;124mPleaseDisplayUsage\u001b[39m\u001b[38;5;124m'\u001b[39m]\n\u001b[1;32m     31\u001b[0m \u001b[38;5;28;01mimport\u001b[39;00m \u001b[38;5;21;01msys\u001b[39;00m \u001b[38;5;66;03m# :todo: remove, debugging only\u001b[39;00m\n\u001b[0;32m---> 32\u001b[0m \u001b[38;5;28;01mfrom\u001b[39;00m \u001b[38;5;21;01m.\u001b[39;00m \u001b[38;5;28;01mimport\u001b[39;00m _gsprint \u001b[38;5;28;01mas\u001b[39;00m gs\n\u001b[1;32m     33\u001b[0m __version__ \u001b[38;5;241m=\u001b[39m gs\u001b[38;5;241m.\u001b[39m__version__\n\u001b[1;32m     35\u001b[0m GhostscriptError \u001b[38;5;241m=\u001b[39m gs\u001b[38;5;241m.\u001b[39mGhostscriptError\n",
      "File \u001b[0;32m~/.venv/leoshouseofhorrors/lib/python3.11/site-packages/ghostscript/_gsprint.py:530\u001b[0m\n\u001b[1;32m    528\u001b[0m         libgs \u001b[38;5;241m=\u001b[39m ctypes\u001b[38;5;241m.\u001b[39mutil\u001b[38;5;241m.\u001b[39mfind_library(\u001b[38;5;124m'\u001b[39m\u001b[38;5;124mgs\u001b[39m\u001b[38;5;124m'\u001b[39m)\n\u001b[1;32m    529\u001b[0m         \u001b[38;5;28;01mif\u001b[39;00m \u001b[38;5;129;01mnot\u001b[39;00m libgs:\n\u001b[0;32m--> 530\u001b[0m             \u001b[38;5;28;01mraise\u001b[39;00m \u001b[38;5;167;01mRuntimeError\u001b[39;00m(\u001b[38;5;124m'\u001b[39m\u001b[38;5;124mCan not find Ghostscript library (libgs)\u001b[39m\u001b[38;5;124m'\u001b[39m)\n\u001b[1;32m    531\u001b[0m         libgs \u001b[38;5;241m=\u001b[39m cdll\u001b[38;5;241m.\u001b[39mLoadLibrary(libgs)\n\u001b[1;32m    533\u001b[0m \u001b[38;5;28;01mdel\u001b[39;00m __win32_finddll\n",
      "\u001b[0;31mRuntimeError\u001b[0m: Can not find Ghostscript library (libgs)"
     ]
    }
   ],
   "source": [
    "import ghostscript"
   ]
  },
  {
   "cell_type": "code",
   "execution_count": null,
   "id": "64f3c356-d5d7-480d-83c7-d5732ad6f454",
   "metadata": {},
   "outputs": [],
   "source": []
  }
 ],
 "metadata": {
  "kernelspec": {
   "display_name": "Python 3 (ipykernel)",
   "language": "python",
   "name": "python3"
  },
  "language_info": {
   "codemirror_mode": {
    "name": "ipython",
    "version": 3
   },
   "file_extension": ".py",
   "mimetype": "text/x-python",
   "name": "python",
   "nbconvert_exporter": "python",
   "pygments_lexer": "ipython3",
   "version": "3.11.1"
  }
 },
 "nbformat": 4,
 "nbformat_minor": 5
}
