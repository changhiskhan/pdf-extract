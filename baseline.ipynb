{
 "cells": [
  {
   "cell_type": "code",
   "execution_count": null,
   "id": "b61dde65-e484-41a1-870b-c3312c254fb6",
   "metadata": {
    "pycharm": {
     "is_executing": true
    }
   },
   "outputs": [],
   "source": [
    "pip install \"camelot-py[cv]\" numpy pandas tabula-py"
   ]
  },
  {
   "cell_type": "code",
   "execution_count": 4,
   "id": "978b6028-9e7a-4c19-92a6-4f1445e79749",
   "metadata": {},
   "outputs": [],
   "source": [
    "from ctypes.util import find_library\n",
    "find_library(\"/usr/local/lib/docker/\")"
   ]
  },
  {
   "cell_type": "code",
   "execution_count": 3,
   "id": "d4fe7f31-eb77-4da7-a929-bb41981ff582",
   "metadata": {},
   "outputs": [],
   "source": [
    "import tkinter"
   ]
  },
  {
   "cell_type": "code",
   "execution_count": 5,
   "id": "9cc24901-8da7-4413-a0ff-5c19ab5f2887",
   "metadata": {},
   "outputs": [
    {
     "ename": "RuntimeError",
     "evalue": "Can not find Ghostscript library (libgs)",
     "output_type": "error",
     "traceback": [
      "\u001B[0;31m---------------------------------------------------------------------------\u001B[0m",
      "\u001B[0;31mOSError\u001B[0m                                   Traceback (most recent call last)",
      "File \u001B[0;32m~/.venv/leoshouseofhorrors/lib/python3.11/site-packages/ghostscript/_gsprint.py:524\u001B[0m\n\u001B[1;32m    523\u001B[0m \u001B[38;5;28;01mtry\u001B[39;00m:\n\u001B[0;32m--> 524\u001B[0m     libgs \u001B[38;5;241m=\u001B[39m \u001B[43mcdll\u001B[49m\u001B[38;5;241;43m.\u001B[39;49m\u001B[43mLoadLibrary\u001B[49m\u001B[43m(\u001B[49m\u001B[38;5;124;43m\"\u001B[39;49m\u001B[38;5;124;43mlibgs.so\u001B[39;49m\u001B[38;5;124;43m\"\u001B[39;49m\u001B[43m)\u001B[49m\n\u001B[1;32m    525\u001B[0m \u001B[38;5;28;01mexcept\u001B[39;00m \u001B[38;5;167;01mOSError\u001B[39;00m:\n\u001B[1;32m    526\u001B[0m     \u001B[38;5;66;03m# shared object file not found\u001B[39;00m\n",
      "File \u001B[0;32m/Library/Frameworks/Python.framework/Versions/3.11/lib/python3.11/ctypes/__init__.py:454\u001B[0m, in \u001B[0;36mLibraryLoader.LoadLibrary\u001B[0;34m(self, name)\u001B[0m\n\u001B[1;32m    453\u001B[0m \u001B[38;5;28;01mdef\u001B[39;00m \u001B[38;5;21mLoadLibrary\u001B[39m(\u001B[38;5;28mself\u001B[39m, name):\n\u001B[0;32m--> 454\u001B[0m     \u001B[38;5;28;01mreturn\u001B[39;00m \u001B[38;5;28;43mself\u001B[39;49m\u001B[38;5;241;43m.\u001B[39;49m\u001B[43m_dlltype\u001B[49m\u001B[43m(\u001B[49m\u001B[43mname\u001B[49m\u001B[43m)\u001B[49m\n",
      "File \u001B[0;32m/Library/Frameworks/Python.framework/Versions/3.11/lib/python3.11/ctypes/__init__.py:376\u001B[0m, in \u001B[0;36mCDLL.__init__\u001B[0;34m(self, name, mode, handle, use_errno, use_last_error, winmode)\u001B[0m\n\u001B[1;32m    375\u001B[0m \u001B[38;5;28;01mif\u001B[39;00m handle \u001B[38;5;129;01mis\u001B[39;00m \u001B[38;5;28;01mNone\u001B[39;00m:\n\u001B[0;32m--> 376\u001B[0m     \u001B[38;5;28mself\u001B[39m\u001B[38;5;241m.\u001B[39m_handle \u001B[38;5;241m=\u001B[39m \u001B[43m_dlopen\u001B[49m\u001B[43m(\u001B[49m\u001B[38;5;28;43mself\u001B[39;49m\u001B[38;5;241;43m.\u001B[39;49m\u001B[43m_name\u001B[49m\u001B[43m,\u001B[49m\u001B[43m \u001B[49m\u001B[43mmode\u001B[49m\u001B[43m)\u001B[49m\n\u001B[1;32m    377\u001B[0m \u001B[38;5;28;01melse\u001B[39;00m:\n",
      "\u001B[0;31mOSError\u001B[0m: dlopen(libgs.so, 0x0006): tried: 'libgs.so' (no such file), '/System/Volumes/Preboot/Cryptexes/OSlibgs.so' (no such file), '/usr/lib/libgs.so' (no such file, not in dyld cache), 'libgs.so' (no such file), '/usr/lib/libgs.so' (no such file, not in dyld cache)",
      "\nDuring handling of the above exception, another exception occurred:\n",
      "\u001B[0;31mRuntimeError\u001B[0m                              Traceback (most recent call last)",
      "Cell \u001B[0;32mIn[5], line 1\u001B[0m\n\u001B[0;32m----> 1\u001B[0m \u001B[38;5;28;01mimport\u001B[39;00m \u001B[38;5;21;01mghostscript\u001B[39;00m\n",
      "File \u001B[0;32m~/.venv/leoshouseofhorrors/lib/python3.11/site-packages/ghostscript/__init__.py:32\u001B[0m\n\u001B[1;32m     28\u001B[0m __all__ \u001B[38;5;241m=\u001B[39m [\u001B[38;5;124m'\u001B[39m\u001B[38;5;124mGhostscript\u001B[39m\u001B[38;5;124m'\u001B[39m, \u001B[38;5;124m'\u001B[39m\u001B[38;5;124mrevision\u001B[39m\u001B[38;5;124m'\u001B[39m,\n\u001B[1;32m     29\u001B[0m            \u001B[38;5;124m'\u001B[39m\u001B[38;5;124mGhostscriptError\u001B[39m\u001B[38;5;124m'\u001B[39m, \u001B[38;5;124m'\u001B[39m\u001B[38;5;124mPleaseDisplayUsage\u001B[39m\u001B[38;5;124m'\u001B[39m]\n\u001B[1;32m     31\u001B[0m \u001B[38;5;28;01mimport\u001B[39;00m \u001B[38;5;21;01msys\u001B[39;00m \u001B[38;5;66;03m# :todo: remove, debugging only\u001B[39;00m\n\u001B[0;32m---> 32\u001B[0m \u001B[38;5;28;01mfrom\u001B[39;00m \u001B[38;5;21;01m.\u001B[39;00m \u001B[38;5;28;01mimport\u001B[39;00m _gsprint \u001B[38;5;28;01mas\u001B[39;00m gs\n\u001B[1;32m     33\u001B[0m __version__ \u001B[38;5;241m=\u001B[39m gs\u001B[38;5;241m.\u001B[39m__version__\n\u001B[1;32m     35\u001B[0m GhostscriptError \u001B[38;5;241m=\u001B[39m gs\u001B[38;5;241m.\u001B[39mGhostscriptError\n",
      "File \u001B[0;32m~/.venv/leoshouseofhorrors/lib/python3.11/site-packages/ghostscript/_gsprint.py:530\u001B[0m\n\u001B[1;32m    528\u001B[0m         libgs \u001B[38;5;241m=\u001B[39m ctypes\u001B[38;5;241m.\u001B[39mutil\u001B[38;5;241m.\u001B[39mfind_library(\u001B[38;5;124m'\u001B[39m\u001B[38;5;124mgs\u001B[39m\u001B[38;5;124m'\u001B[39m)\n\u001B[1;32m    529\u001B[0m         \u001B[38;5;28;01mif\u001B[39;00m \u001B[38;5;129;01mnot\u001B[39;00m libgs:\n\u001B[0;32m--> 530\u001B[0m             \u001B[38;5;28;01mraise\u001B[39;00m \u001B[38;5;167;01mRuntimeError\u001B[39;00m(\u001B[38;5;124m'\u001B[39m\u001B[38;5;124mCan not find Ghostscript library (libgs)\u001B[39m\u001B[38;5;124m'\u001B[39m)\n\u001B[1;32m    531\u001B[0m         libgs \u001B[38;5;241m=\u001B[39m cdll\u001B[38;5;241m.\u001B[39mLoadLibrary(libgs)\n\u001B[1;32m    533\u001B[0m \u001B[38;5;28;01mdel\u001B[39;00m __win32_finddll\n",
      "\u001B[0;31mRuntimeError\u001B[0m: Can not find Ghostscript library (libgs)"
     ]
    }
   ],
   "source": [
    "import ghostscript"
   ]
  },
  {
   "cell_type": "code",
   "execution_count": null,
   "id": "64f3c356-d5d7-480d-83c7-d5732ad6f454",
   "metadata": {},
   "outputs": [],
   "source": []
  }
 ],
 "metadata": {
  "kernelspec": {
   "display_name": "Python 3 (ipykernel)",
   "language": "python",
   "name": "python3"
  },
  "language_info": {
   "codemirror_mode": {
    "name": "ipython",
    "version": 3
   },
   "file_extension": ".py",
   "mimetype": "text/x-python",
   "name": "python",
   "nbconvert_exporter": "python",
   "pygments_lexer": "ipython3",
   "version": "3.11.1"
  }
 },
 "nbformat": 4,
 "nbformat_minor": 5
}
