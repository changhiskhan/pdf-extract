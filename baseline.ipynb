{
 "cells": [
  {
   "cell_type": "markdown",
   "id": "2d7298bf-360d-49e2-9bf9-1fb361efe4fe",
   "metadata": {},
   "source": [
    "# Establish off the shelf baseline"
   ]
  },
  {
   "cell_type": "markdown",
   "id": "374d5278-b275-4a1a-a977-25651be3aebb",
   "metadata": {},
   "source": [
    "## Verify the installation"
   ]
  },
  {
   "cell_type": "code",
   "execution_count": 3,
   "id": "978b6028-9e7a-4c19-92a6-4f1445e79749",
   "metadata": {},
   "outputs": [
    {
     "name": "stdout",
     "output_type": "stream",
     "text": [
      "/Users/changshe/miniconda3/envs/pdf/bin/../lib/libgs.dylib\n"
     ]
    }
   ],
   "source": [
    "from ctypes.util import find_library\n",
    "path = find_library(\"gs\")\n",
    "print(path)\n",
    "assert len(path) > 0"
   ]
  },
  {
   "cell_type": "code",
   "execution_count": 4,
   "id": "d4fe7f31-eb77-4da7-a929-bb41981ff582",
   "metadata": {},
   "outputs": [],
   "source": [
    "# Shouldn't error\n",
    "import tkinter"
   ]
  },
  {
   "cell_type": "code",
   "execution_count": null,
   "id": "efb6123c-3f5a-45b8-acc1-afadf8847d57",
   "metadata": {},
   "outputs": [],
   "source": []
  }
 ],
 "metadata": {
  "kernelspec": {
   "display_name": "Python 3 (ipykernel)",
   "language": "python",
   "name": "python3"
  },
  "language_info": {
   "codemirror_mode": {
    "name": "ipython",
    "version": 3
   },
   "file_extension": ".py",
   "mimetype": "text/x-python",
   "name": "python",
   "nbconvert_exporter": "python",
   "pygments_lexer": "ipython3",
   "version": "3.10.8"
  }
 },
 "nbformat": 4,
 "nbformat_minor": 5
}
